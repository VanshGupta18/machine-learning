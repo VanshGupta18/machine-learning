{
  "nbformat": 4,
  "nbformat_minor": 0,
  "metadata": {
    "colab": {
      "provenance": [],
      "authorship_tag": "ABX9TyN9GMg47GRqXbl1uKLkQezB",
      "include_colab_link": true
    },
    "kernelspec": {
      "name": "python3",
      "display_name": "Python 3"
    },
    "language_info": {
      "name": "python"
    }
  },
  "cells": [
    {
      "cell_type": "markdown",
      "metadata": {
        "id": "view-in-github",
        "colab_type": "text"
      },
      "source": [
        "<a href=\"https://colab.research.google.com/github/VanshGupta18/machine-learning/blob/main/ml_1.ipynb\" target=\"_parent\"><img src=\"https://colab.research.google.com/assets/colab-badge.svg\" alt=\"Open In Colab\"/></a>"
      ]
    },
    {
      "cell_type": "code",
      "execution_count": 2,
      "metadata": {
        "id": "Oh0pMgVY5l9f"
      },
      "outputs": [],
      "source": [
        "import numpy as np"
      ]
    },
    {
      "cell_type": "code",
      "source": [
        "arr = np.array([1,2,3,4,5])\n",
        "reversed_arr = np.flip(arr)\n",
        "print(reversed_arr)"
      ],
      "metadata": {
        "colab": {
          "base_uri": "https://localhost:8080/"
        },
        "id": "cfdO_Cb49T8n",
        "outputId": "d1d01902-1dc6-42e3-b55d-4f8f0e59cf8b"
      },
      "execution_count": null,
      "outputs": [
        {
          "output_type": "stream",
          "name": "stdout",
          "text": [
            "[5 4 3 2 1]\n"
          ]
        }
      ]
    },
    {
      "cell_type": "code",
      "source": [
        "arr1 = np.array([[1,2,3],[2,4,5],[1,2,3]])\n",
        "flattened_arr = arr1.flatten()\n",
        "print(flattened_arr)"
      ],
      "metadata": {
        "colab": {
          "base_uri": "https://localhost:8080/"
        },
        "id": "i2QpjSqg_dBl",
        "outputId": "dec3a368-eb0a-41ac-edb4-4f21fb2f728d"
      },
      "execution_count": null,
      "outputs": [
        {
          "output_type": "stream",
          "name": "stdout",
          "text": [
            "[1 2 3 2 4 5 1 2 3]\n"
          ]
        }
      ]
    },
    {
      "cell_type": "code",
      "source": [
        "arr1 = np.array([[1,2,3],[2,4,5],[1,2,3]])\n",
        "flattened_arr = arr1.ravel()\n",
        "print(flattened_arr)"
      ],
      "metadata": {
        "colab": {
          "base_uri": "https://localhost:8080/"
        },
        "id": "xD0_AH4C_t7z",
        "outputId": "14475e35-12ce-4a6c-f073-3f6650eec5f4"
      },
      "execution_count": null,
      "outputs": [
        {
          "output_type": "stream",
          "name": "stdout",
          "text": [
            "[1 2 3 2 4 5 1 2 3]\n"
          ]
        }
      ]
    },
    {
      "cell_type": "code",
      "source": [
        "arr1 = np.array([[1, 2], [3, 4]])\n",
        "arr2 = np.array([[1, 2], [3, 4]])\n",
        "are_equal = np.array_equal(arr1, arr2)\n",
        "print(are_equal)"
      ],
      "metadata": {
        "colab": {
          "base_uri": "https://localhost:8080/"
        },
        "id": "WWJ_My4r-ux7",
        "outputId": "516d01df-ff60-411d-e05b-7376efad29b7"
      },
      "execution_count": null,
      "outputs": [
        {
          "output_type": "stream",
          "name": "stdout",
          "text": [
            "True\n"
          ]
        }
      ]
    },
    {
      "cell_type": "code",
      "metadata": {
        "colab": {
          "base_uri": "https://localhost:8080/"
        },
        "id": "63171329",
        "outputId": "30f07a4f-9502-4573-f86d-4fa0445190a4"
      },
      "source": [
        "x=np.array([1,2,3,4,5,1,2,1,1,1])\n",
        "y=np.array([1,1,1,2,3,4,2,4,3,3])\n",
        "np.bincount(x).argmax()\n",
        "\n",
        "#for y\n",
        "valy,cnty=np.unique(y,return_counts=True)\n",
        "most_y=valy[np.argmax(cnty)]\n",
        "print(most_y)\n",
        "index=np.where(y==most_y)\n",
        "print(index)"
      ],
      "execution_count": 3,
      "outputs": [
        {
          "output_type": "stream",
          "name": "stdout",
          "text": [
            "1\n",
            "(array([0, 1, 2]),)\n"
          ]
        }
      ]
    },
    {
      "cell_type": "code",
      "source": [
        "gfg=np.matrix('[4,1,9;12,3,1;4,5,6]')\n",
        "sum_gfg=np.sum(gfg)\n",
        "print(sum_gfg)\n",
        "row_sum=np.sum(gfg,1)\n",
        "col_sum=np.sum(gfg,0)\n",
        "print(row_sum)\n",
        "print(col_sum)"
      ],
      "metadata": {
        "colab": {
          "base_uri": "https://localhost:8080/"
        },
        "id": "oVzi0KSjRLcq",
        "outputId": "f16e4cb5-ea53-4bd6-db79-c97e2d2e4106"
      },
      "execution_count": 4,
      "outputs": [
        {
          "output_type": "stream",
          "name": "stdout",
          "text": [
            "45\n",
            "[[14]\n",
            " [16]\n",
            " [15]]\n",
            "[[20  9 16]]\n"
          ]
        }
      ]
    },
    {
      "cell_type": "code",
      "source": [
        "n_arr=np.array([[55,25,15],[30,44,2],[11,45,77]])\n",
        "sum_diag=np.trace(n_arr)\n",
        "print(sum_diag)\n",
        "eigenval,eigenvec=np.linalg.eig(n_arr)\n",
        "print(eigenval)\n",
        "print(eigenvec)\n",
        "inv=np.linalg.inv(n_arr)\n",
        "inv\n",
        "det=np.linalg.det(n_arr)\n",
        "det"
      ],
      "metadata": {
        "colab": {
          "base_uri": "https://localhost:8080/"
        },
        "id": "Xipk_EbuRT1U",
        "outputId": "f1093a8c-15e3-46de-9ab8-8a017254df29"
      },
      "execution_count": 5,
      "outputs": [
        {
          "output_type": "stream",
          "name": "stdout",
          "text": [
            "176\n",
            "[98.16835147 28.097044   49.73460452]\n",
            "[[ 0.4574917   0.34637121 -0.15017693]\n",
            " [ 0.28447814 -0.72784061 -0.4852124 ]\n",
            " [ 0.84248058  0.59184038  0.8614034 ]]\n"
          ]
        },
        {
          "output_type": "execute_result",
          "data": {
            "text/plain": [
              "np.float64(137180.0000000001)"
            ]
          },
          "metadata": {},
          "execution_count": 5
        }
      ]
    },
    {
      "cell_type": "code",
      "source": [
        "p1=np.array([[1,2],[2,3]])\n",
        "q1=np.array([[4,5],[6,7]])\n",
        "p2=np.array([[1,2],[2,3],[4,5]])\n",
        "q2=np.array([[4,5,1],[6,7,2]])\n",
        "np.dot(p1,q1)\n",
        "np.dot(p2,q2)\n",
        "\n",
        "cov1=np.cov(p1.flatten(),q1.flatten())\n",
        "print(cov1)\n",
        "cov2=np.cov(p2.flatten(),q2.flatten())\n",
        "cov2"
      ],
      "metadata": {
        "colab": {
          "base_uri": "https://localhost:8080/"
        },
        "id": "Ob-tHGA0RW3a",
        "outputId": "4cb8ec15-6f6c-4d81-a38f-81fdce2df0f2"
      },
      "execution_count": 6,
      "outputs": [
        {
          "output_type": "stream",
          "name": "stdout",
          "text": [
            "[[0.66666667 1.        ]\n",
            " [1.         1.66666667]]\n"
          ]
        },
        {
          "output_type": "execute_result",
          "data": {
            "text/plain": [
              "array([[2.16666667, 0.23333333],\n",
              "       [0.23333333, 5.36666667]])"
            ]
          },
          "metadata": {},
          "execution_count": 6
        }
      ]
    },
    {
      "cell_type": "code",
      "source": [
        "\n",
        "h=np.array([[2,3,4],[3,2,9]])\n",
        "j=np.array([[1,5,0],[5,10,3]])\n",
        "inner=np.inner(h,j)\n",
        "print(inner)\n",
        "outer=np.outer(h.flatten(),j.flatten())\n",
        "print(outer)\n",
        "cp=np.array(np.meshgrid(x.flatten(), y.flatten())).T.reshape(-1, 2)\n",
        "cp\n"
      ],
      "metadata": {
        "colab": {
          "base_uri": "https://localhost:8080/"
        },
        "id": "NPv_wSN3RdqA",
        "outputId": "e666fd4e-d40e-4d66-b6b3-e485c46156cb"
      },
      "execution_count": 7,
      "outputs": [
        {
          "output_type": "stream",
          "name": "stdout",
          "text": [
            "[[17 52]\n",
            " [13 62]]\n",
            "[[ 2 10  0 10 20  6]\n",
            " [ 3 15  0 15 30  9]\n",
            " [ 4 20  0 20 40 12]\n",
            " [ 3 15  0 15 30  9]\n",
            " [ 2 10  0 10 20  6]\n",
            " [ 9 45  0 45 90 27]]\n"
          ]
        },
        {
          "output_type": "execute_result",
          "data": {
            "text/plain": [
              "array([[1, 1],\n",
              "       [1, 1],\n",
              "       [1, 1],\n",
              "       [1, 2],\n",
              "       [1, 3],\n",
              "       [1, 4],\n",
              "       [1, 2],\n",
              "       [1, 4],\n",
              "       [1, 3],\n",
              "       [1, 3],\n",
              "       [2, 1],\n",
              "       [2, 1],\n",
              "       [2, 1],\n",
              "       [2, 2],\n",
              "       [2, 3],\n",
              "       [2, 4],\n",
              "       [2, 2],\n",
              "       [2, 4],\n",
              "       [2, 3],\n",
              "       [2, 3],\n",
              "       [3, 1],\n",
              "       [3, 1],\n",
              "       [3, 1],\n",
              "       [3, 2],\n",
              "       [3, 3],\n",
              "       [3, 4],\n",
              "       [3, 2],\n",
              "       [3, 4],\n",
              "       [3, 3],\n",
              "       [3, 3],\n",
              "       [4, 1],\n",
              "       [4, 1],\n",
              "       [4, 1],\n",
              "       [4, 2],\n",
              "       [4, 3],\n",
              "       [4, 4],\n",
              "       [4, 2],\n",
              "       [4, 4],\n",
              "       [4, 3],\n",
              "       [4, 3],\n",
              "       [5, 1],\n",
              "       [5, 1],\n",
              "       [5, 1],\n",
              "       [5, 2],\n",
              "       [5, 3],\n",
              "       [5, 4],\n",
              "       [5, 2],\n",
              "       [5, 4],\n",
              "       [5, 3],\n",
              "       [5, 3],\n",
              "       [1, 1],\n",
              "       [1, 1],\n",
              "       [1, 1],\n",
              "       [1, 2],\n",
              "       [1, 3],\n",
              "       [1, 4],\n",
              "       [1, 2],\n",
              "       [1, 4],\n",
              "       [1, 3],\n",
              "       [1, 3],\n",
              "       [2, 1],\n",
              "       [2, 1],\n",
              "       [2, 1],\n",
              "       [2, 2],\n",
              "       [2, 3],\n",
              "       [2, 4],\n",
              "       [2, 2],\n",
              "       [2, 4],\n",
              "       [2, 3],\n",
              "       [2, 3],\n",
              "       [1, 1],\n",
              "       [1, 1],\n",
              "       [1, 1],\n",
              "       [1, 2],\n",
              "       [1, 3],\n",
              "       [1, 4],\n",
              "       [1, 2],\n",
              "       [1, 4],\n",
              "       [1, 3],\n",
              "       [1, 3],\n",
              "       [1, 1],\n",
              "       [1, 1],\n",
              "       [1, 1],\n",
              "       [1, 2],\n",
              "       [1, 3],\n",
              "       [1, 4],\n",
              "       [1, 2],\n",
              "       [1, 4],\n",
              "       [1, 3],\n",
              "       [1, 3],\n",
              "       [1, 1],\n",
              "       [1, 1],\n",
              "       [1, 1],\n",
              "       [1, 2],\n",
              "       [1, 3],\n",
              "       [1, 4],\n",
              "       [1, 2],\n",
              "       [1, 4],\n",
              "       [1, 3],\n",
              "       [1, 3]])"
            ]
          },
          "metadata": {},
          "execution_count": 7
        }
      ]
    },
    {
      "cell_type": "code",
      "source": [
        "\n",
        "array = np.array([[1,-2,3],[-4,5,-6]])\n",
        "abs_arr=np.abs(array)\n",
        "print(abs_arr)\n",
        "perc=np.percentile(array.flatten(),[25,50,75])\n",
        "print(perc)\n",
        "perc_row=np.percentile(array,[25,50,75],axis=0)\n",
        "print(perc_row)\n",
        "perc_col=np.percentile(array,[25,50,75],axis=1)\n",
        "print(perc_col)"
      ],
      "metadata": {
        "colab": {
          "base_uri": "https://localhost:8080/"
        },
        "id": "lbuNUsMPRjZ2",
        "outputId": "0c2e81ea-3874-4d54-ca5d-11763cdc1f77"
      },
      "execution_count": 8,
      "outputs": [
        {
          "output_type": "stream",
          "name": "stdout",
          "text": [
            "[[1 2 3]\n",
            " [4 5 6]]\n",
            "[-3.5 -0.5  2.5]\n",
            "[[-2.75 -0.25 -3.75]\n",
            " [-1.5   1.5  -1.5 ]\n",
            " [-0.25  3.25  0.75]]\n",
            "[[-0.5 -5. ]\n",
            " [ 1.  -4. ]\n",
            " [ 2.   0.5]]\n"
          ]
        }
      ]
    },
    {
      "cell_type": "code",
      "source": [
        "mean_f=np.mean(array.flatten())\n",
        "median=np.median(array.flatten())\n",
        "std=np.std(array.flatten())\n",
        "\n",
        "mean_c=np.mean(array,axis=0)\n",
        "median_c=np.median(array,axis=0)\n",
        "std_c=np.std(array,axis=0)\n",
        ""
      ],
      "metadata": {
        "id": "ECcUXGNfRkcI"
      },
      "execution_count": 10,
      "outputs": []
    },
    {
      "cell_type": "code",
      "source": [
        "a = np.array([-1.8, -1.6, -0.5, 0.5, 1.6, 1.8, 3.0])\n",
        "floor=np.floor(a)\n",
        "ceil=np.ceil(a)\n",
        "trun=np.trunc(a)\n",
        "round=np.round(a)\n",
        "floor,ceil,trun,round"
      ],
      "metadata": {
        "colab": {
          "base_uri": "https://localhost:8080/"
        },
        "id": "8VrUIxicRsdG",
        "outputId": "300ad812-ed0a-4fc1-9142-258fdb889b29"
      },
      "execution_count": 11,
      "outputs": [
        {
          "output_type": "execute_result",
          "data": {
            "text/plain": [
              "(array([-2., -2., -1.,  0.,  1.,  1.,  3.]),\n",
              " array([-1., -1., -0.,  1.,  2.,  2.,  3.]),\n",
              " array([-1., -1., -0.,  0.,  1.,  1.,  3.]),\n",
              " array([-2., -2., -0.,  0.,  2.,  2.,  3.]))"
            ]
          },
          "metadata": {},
          "execution_count": 11
        }
      ]
    },
    {
      "cell_type": "code",
      "source": [
        "arr1=np.array([10,52,62,16,16,54,453])\n",
        "sort=np.sort(arr1)\n",
        "sort_index=np.argsort(arr1)\n",
        "small=np.sort(arr1)[:4]\n",
        "large=np.sort(array)[-5:]\n",
        "sort,sort_index,small,large"
      ],
      "metadata": {
        "colab": {
          "base_uri": "https://localhost:8080/"
        },
        "id": "-hIdsNu0RtiH",
        "outputId": "3d9fa219-fced-423d-a6a9-0f01d48affa6"
      },
      "execution_count": 12,
      "outputs": [
        {
          "output_type": "execute_result",
          "data": {
            "text/plain": [
              "(array([ 10,  16,  16,  52,  54,  62, 453]),\n",
              " array([0, 3, 4, 1, 5, 2, 6]),\n",
              " array([10, 16, 16, 52]),\n",
              " array([[-2,  1,  3],\n",
              "        [-6, -4,  5]]))"
            ]
          },
          "metadata": {},
          "execution_count": 12
        }
      ]
    },
    {
      "cell_type": "code",
      "source": [
        "array = np.array([1.0, 1.2, 2.2, 2.0, 3.0, 2.0])\n",
        "integers=array[array==array.astype(int)]\n",
        "floats=array[array!=array.astype(int)]\n",
        "\n",
        "integers,floats\n"
      ],
      "metadata": {
        "colab": {
          "base_uri": "https://localhost:8080/"
        },
        "id": "rGZ9zBUPRwZd",
        "outputId": "b23d5eeb-a66d-40c5-ca4e-3bf70df1cf17"
      },
      "execution_count": 13,
      "outputs": [
        {
          "output_type": "execute_result",
          "data": {
            "text/plain": [
              "(array([1., 2., 3., 2.]), array([1.2, 2.2]))"
            ]
          },
          "metadata": {},
          "execution_count": 13
        }
      ]
    },
    {
      "cell_type": "code",
      "source": [
        "from PIL import Image\n",
        "\n",
        "def img_to_array(path):\n",
        "    img = Image.open(path)\n",
        "    arr = np.array(img)\n",
        "    if len(arr.shape) == 2:\n",
        "        np.savetxt(\"grayscale_image.txt\", arr, fmt='%d')\n",
        "        print(\"Saved grayscale image\")\n",
        "    else:\n",
        "        arr_reshaped = arr.reshape(-1, arr.shape[2])\n",
        "        np.savetxt(\"rgb_image.txt\", arr_reshaped, fmt='%d')\n",
        "        print(\"Saved RGB image\")\n",
        "\n",
        "img_to_array(\"IMG_8708.jpeg\")"
      ],
      "metadata": {
        "colab": {
          "base_uri": "https://localhost:8080/"
        },
        "id": "BBTB6i8TTuyQ",
        "outputId": "5e12acea-f9db-40ab-c58c-8e34e3852879"
      },
      "execution_count": 16,
      "outputs": [
        {
          "output_type": "stream",
          "name": "stdout",
          "text": [
            "Saved RGB image\n"
          ]
        }
      ]
    }
  ]
}